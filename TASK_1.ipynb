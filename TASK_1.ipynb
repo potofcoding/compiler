{
  "nbformat": 4,
  "nbformat_minor": 0,
  "metadata": {
    "colab": {
      "provenance": [],
      "collapsed_sections": [],
      "authorship_tag": "ABX9TyMlq6JvTKDAOeGIFRVaW04Z",
      "include_colab_link": true
    },
    "kernelspec": {
      "name": "python3",
      "display_name": "Python 3"
    },
    "language_info": {
      "name": "python"
    }
  },
  "cells": [
    {
      "cell_type": "markdown",
      "metadata": {
        "id": "view-in-github",
        "colab_type": "text"
      },
      "source": [
        "<a href=\"https://colab.research.google.com/github/potofcoding/compiler/blob/main/TASK_1.ipynb\" target=\"_parent\"><img src=\"https://colab.research.google.com/assets/colab-badge.svg\" alt=\"Open In Colab\"/></a>"
      ]
    },
    {
      "cell_type": "code",
      "execution_count": 2,
      "metadata": {
        "colab": {
          "base_uri": "https://localhost:8080/"
        },
        "id": "4UCsP4V8MB2R",
        "outputId": "d05fa72e-0ca4-4135-e72d-1cfd21985981"
      },
      "outputs": [
        {
          "output_type": "stream",
          "name": "stdout",
          "text": [
            "Enter the first number: 40\n",
            "Enter the second number: 20\n",
            " The first number is greater that the second number\n"
          ]
        }
      ],
      "source": [
        "# Take two integer values from the user and print the greatest among them.\n",
        "\n",
        "x= input(\"Enter the first number: \")\n",
        "y= input(\"Enter the second number: \")\n",
        "\n",
        "if x>y:\n",
        "  print(\" The first number is greater that the second number\")\n",
        "else:\n",
        "   print(\" The second number is greater that the first number\")"
      ]
    },
    {
      "cell_type": "code",
      "source": [
        "#) ECU has the following rules for its grading system:\n",
        "#> Below 25 - F\n",
        "#> 25 to 45 - E\n",
        "#> 45 to 50 - D\n",
        "#> 50 to 60 - C\n",
        "#> 60 to 80 - B\n",
        "#> Above 80 - A\n",
        "#Ask the student to enter marks & print the corresponding grade.\n",
        "\n",
        "print(\"ECU grading system\")\n",
        "print(\"______________________________________________________\")\n",
        "number =int(input(\"Enter your grade: \"))\n",
        "if number<25 and number>=0:\n",
        "  print(\"F\")\n",
        "elif number>=25 and number<45:\n",
        "  print(\"E\")\n",
        "elif number>=45 and number<50:\n",
        "  print(\"D\")\n",
        "elif number>=50 and number<60:\n",
        "  print(\"C\")\n",
        "elif number>=60 and number<80:\n",
        "  print(\"B\")\n",
        "elif number>=80 and number<=100:\n",
        "  print(\"A\")\n",
        "else:\n",
        "  print(\"Invalid Input\")  \n",
        "print(\"*-*                  GOOD LUCK                     *-*\")"
      ],
      "metadata": {
        "colab": {
          "base_uri": "https://localhost:8080/"
        },
        "id": "9CxRlERDNWem",
        "outputId": "84087604-5d10-4393-e010-8969aa7c79ab"
      },
      "execution_count": 8,
      "outputs": [
        {
          "output_type": "stream",
          "name": "stdout",
          "text": [
            "ECU grading system\n",
            "______________________________________________________\n",
            "Enter your grade: 68\n",
            "B\n",
            "*-*                  GOOD LUCK                     *-*\n"
          ]
        }
      ]
    },
    {
      "cell_type": "code",
      "source": [
        "9# Take the age of 3 people as input from the user and determine who is the oldest and youngest among them.\n",
        "first= int(input(\"1] Enter the your age: \"))\n",
        "second= int(input(\"2] Enter the your age: \"))\n",
        "third= int(input(\"3] Enter the your age: \"))\n",
        "\n",
        "if first>second and  second>third:\n",
        "  print(\"first is the oldest\")\n",
        "  print(\"third is the youngest\")\n",
        "elif third>second and first>third:\n",
        "  print(\"first is the oldest\")\n",
        "  print(\"second is the youngest\")\n",
        "\n",
        "if second>first and first>third :\n",
        "  print(\"second is the oldest\")\n",
        "  print(\"third is the youngest\")\n",
        "elif third>first and second>third:\n",
        "  print(\"second is the oldest\")\n",
        "  print(\"first is the youngest\")\n",
        "\n",
        "if third>second and second>first:\n",
        "  print(\"third is the oldest\")\n",
        "  print(\"first is the youngest\")\n",
        "elif first>second and third>first:\n",
        "  print(\"third is the oldest\")\n",
        "  print(\"second is the youngest\")\n"
      ],
      "metadata": {
        "colab": {
          "base_uri": "https://localhost:8080/"
        },
        "id": "34V2RkmuQWvG",
        "outputId": "47794dd2-b470-43f2-d2ff-1534de16da7b"
      },
      "execution_count": 22,
      "outputs": [
        {
          "output_type": "stream",
          "name": "stdout",
          "text": [
            "1] Enter the your age: 50\n",
            "2] Enter the your age: 2\n",
            "3] Enter the your age: 40\n",
            "first is the oldest\n",
            "second is the youngest\n"
          ]
        }
      ]
    }
  ]
}